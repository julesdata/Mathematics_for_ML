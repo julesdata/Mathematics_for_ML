{
 "cells": [
  {
   "cell_type": "markdown",
   "metadata": {},
   "source": [
    "# 일차식과 일차 함수\n",
    "* 선형대수학 : 선형방정식의 해를 구하기 위한 학문 -> 일차식이나 일차 함수를 공부하는 학문\n",
    "> [wikipedia]\n",
    "> \n",
    ">선형대수학(線型代數學, 영어: linear algebra)은 벡터 공간, 벡터, 선형 변환, 행렬, 연립 선형 방정식 등을 연구하는 대수학의 한 분야이다.\n",
    ">현대 선형대수학은 그중에서도 벡터 공간이 주 연구 대상이다. 추상대수학, 함수해석학에 널리 쓰이고 있다.\n",
    "\n",
    "* 일차식: 가장 높은 차수가 1인 다항식   \n",
    "<img src =\"https://user-images.githubusercontent.com/74705142/112970502-39ba7480-9189-11eb-9af6-a67092df1959.png\" width=\"300\" align=\"left\">  "
   ]
  },
  {
   "cell_type": "markdown",
   "metadata": {},
   "source": [
    "* 일차함수: 가장 높은 차수가 1인 x에 대한 f(x)  \n",
    "\n",
    "<img src =\"https://user-images.githubusercontent.com/74705142/112971220-f9a7c180-9189-11eb-9a3d-6b7b74936432.png\" align=\"left\">   "
   ]
  },
  {
   "cell_type": "markdown",
   "metadata": {},
   "source": [
    "# 행렬과 벡터\n",
    "* 행렬 : 수를 직사각형의 형태로 나열한 것  \n",
    "\n",
    "<img src=\"https://user-images.githubusercontent.com/74705142/112972467-40e28200-918b-11eb-9e0c-4a1ec299920b.png\" align=\"left\">"
   ]
  },
  {
   "cell_type": "markdown",
   "metadata": {},
   "source": [
    "* 벡터 \n",
    "  * Computers: 행이나 열 개수가 1인 행렬. 원소가 한개의 index나 subscript에 나열할 수 있는 데이터의 배열 \n",
    "  * Mathematics/Physics : 크키와 방향을 가진 물리량 ex)위치- 원점에서부터 동쪽으로 40m   \n",
    "    (스칼라: 힘만 있고 방향은 없는 양. 시간, 온도, 무게 등)\n",
    "  - n 차원의 열벡터 : (n,1)행렬 \n",
    "  - n 차원의 행벡터 : (1,n)행렬  \n",
    "  \n",
    "<img src=\"https://user-images.githubusercontent.com/74705142/112974877-eb5ba480-918d-11eb-9c81-d1eb36e1c778.png\" align=\"left\">"
   ]
  },
  {
   "cell_type": "markdown",
   "metadata": {},
   "source": [
    "   \n",
    " * 벡터의 연산  \n",
    "  \n",
    "<img src=\"https://user-images.githubusercontent.com/74705142/113100331-3cbf6e80-9236-11eb-992b-3527631da9b9.png\" align=\"left\"> "
   ]
  },
  {
   "cell_type": "markdown",
   "metadata": {},
   "source": [
    "# numpy로 행렬만들기"
   ]
  },
  {
   "cell_type": "code",
   "execution_count": 16,
   "metadata": {},
   "outputs": [],
   "source": [
    "import numpy as np\n",
    "import pandas as pd"
   ]
  },
  {
   "cell_type": "markdown",
   "metadata": {},
   "source": [
    "## 원하는 값을 입력하여 행렬 만들기"
   ]
  },
  {
   "cell_type": "code",
   "execution_count": 3,
   "metadata": {},
   "outputs": [
    {
     "data": {
      "text/plain": [
       "array([[ 1, -1,  2],\n",
       "       [ 3,  2,  2],\n",
       "       [ 4,  1,  2],\n",
       "       [ 7,  5,  6]])"
      ]
     },
     "execution_count": 3,
     "metadata": {},
     "output_type": "execute_result"
    }
   ],
   "source": [
    "A = np.array([\n",
    "    [1,-1,2],\n",
    "    [3,2,2],\n",
    "    [4,1,2],\n",
    "    [7,5,6]\n",
    "])\n",
    "\n",
    "# 4 by 3 행렬의 생성\n",
    "A"
   ]
  },
  {
   "cell_type": "code",
   "execution_count": 4,
   "metadata": {},
   "outputs": [
    {
     "data": {
      "text/plain": [
       "array([[ 0,  1],\n",
       "       [-1,  3],\n",
       "       [ 5,  2]])"
      ]
     },
     "execution_count": 4,
     "metadata": {},
     "output_type": "execute_result"
    }
   ],
   "source": [
    "B= np.array([\n",
    "    [0,1],\n",
    "    [-1,3],\n",
    "    [5,2]\n",
    "])\n",
    "\n",
    "# 3 by 2 행렬의 생성\n",
    "B"
   ]
  },
  {
   "cell_type": "markdown",
   "metadata": {},
   "source": [
    " ## random함수를 이용하여 행렬만들기"
   ]
  },
  {
   "cell_type": "code",
   "execution_count": 21,
   "metadata": {},
   "outputs": [
    {
     "data": {
      "text/plain": [
       "array([[0.77301133, 0.22177578, 0.80743541, 0.06354729, 0.16823921],\n",
       "       [0.84150794, 0.39618233, 0.96804258, 0.54559948, 0.99007003],\n",
       "       [0.04020046, 0.4368406 , 0.57511259, 0.57052428, 0.95010771]])"
      ]
     },
     "execution_count": 21,
     "metadata": {},
     "output_type": "execute_result"
    }
   ],
   "source": [
    "# np.random.rand(m,n)\n",
    "# rand: Create an array of the given shape and populate it with random samples from a uniform distribution\n",
    "\n",
    "c = np.random.rand(3,5)  \n",
    "c\n"
   ]
  },
  {
   "cell_type": "code",
   "execution_count": null,
   "metadata": {},
   "outputs": [],
   "source": []
  }
 ],
 "metadata": {
  "kernelspec": {
   "display_name": "Python 3",
   "language": "python",
   "name": "python3"
  },
  "language_info": {
   "codemirror_mode": {
    "name": "ipython",
    "version": 3
   },
   "file_extension": ".py",
   "mimetype": "text/x-python",
   "name": "python",
   "nbconvert_exporter": "python",
   "pygments_lexer": "ipython3",
   "version": "3.8.5"
  },
  "toc": {
   "base_numbering": 1,
   "nav_menu": {},
   "number_sections": true,
   "sideBar": true,
   "skip_h1_title": false,
   "title_cell": "Table of Contents",
   "title_sidebar": "Contents",
   "toc_cell": false,
   "toc_position": {
    "height": "calc(100% - 180px)",
    "left": "10px",
    "top": "150px",
    "width": "165px"
   },
   "toc_section_display": true,
   "toc_window_display": false
  }
 },
 "nbformat": 4,
 "nbformat_minor": 4
}
