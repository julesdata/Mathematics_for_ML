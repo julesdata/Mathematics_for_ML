{
 "cells": [
  {
   "cell_type": "markdown",
   "metadata": {},
   "source": [
    "# 01.일차식과 일차 함수\n",
    "* 선형대수학 : 선형방정식의 해를 구하기 위한 학문 -> 일차식이나 일차 함수를 공부하는 학문\n",
    "> [wikipedia]\n",
    "> \n",
    ">선형대수학(線型代數學, 영어: linear algebra)은 벡터 공간, 벡터, 선형 변환, 행렬, 연립 선형 방정식 등을 연구하는 대수학의 한 분야이다.\n",
    ">현대 선형대수학은 그중에서도 벡터 공간이 주 연구 대상이다. 추상대수학, 함수해석학에 널리 쓰이고 있다.\n",
    "\n",
    "* 일차식: 가장 높은 차수가 1인 다항식   \n",
    "    <img src =\"https://user-images.githubusercontent.com/74705142/112970502-39ba7480-9189-11eb-9af6-a67092df1959.png\" width=\"300\" align=\"left\">  "
   ]
  },
  {
   "cell_type": "markdown",
   "metadata": {},
   "source": [
    "* 일차함수: 가장 높은 차수가 1인 x에 대한 f(x)  \n",
    "\n",
    "    <img src =\"https://user-images.githubusercontent.com/74705142/112971220-f9a7c180-9189-11eb-9a3d-6b7b74936432.png\" align=\"left\">   "
   ]
  },
  {
   "cell_type": "markdown",
   "metadata": {},
   "source": [
    "# 02. 행렬과 벡터\n",
    "* 행렬 : 수를 직사각형의 형태로 나열한 것  \n",
    "\n",
    "    <img src=\"https://user-images.githubusercontent.com/74705142/112972467-40e28200-918b-11eb-9e0c-4a1ec299920b.png\" align=\"left\">"
   ]
  },
  {
   "cell_type": "markdown",
   "metadata": {},
   "source": [
    "* 벡터 \n",
    "  * Computers: 행이나 열 개수가 1인 행렬. 원소가 한개의 index나 subscript에 나열할 수 있는 데이터의 배열 \n",
    "  * Mathematics/Physics : 크키와 방향을 가진 물리량 ex)위치- 원점에서부터 동쪽으로 40m   \n",
    "    (스칼라: 힘만 있고 방향은 없는 양. 시간, 온도, 무게 등)\n",
    "  - n 차원의 열벡터 : (n,1)행렬 \n",
    "  - n 차원의 행벡터 : (1,n)행렬  \n",
    "  \n",
    "    <img src=\"https://user-images.githubusercontent.com/74705142/112974877-eb5ba480-918d-11eb-9c81-d1eb36e1c778.png\" align=\"left\">"
   ]
  },
  {
   "cell_type": "markdown",
   "metadata": {},
   "source": [
    "   \n",
    " * 벡터의 연산  \n",
    "  \n",
    "    <img src=\"https://user-images.githubusercontent.com/74705142/113100331-3cbf6e80-9236-11eb-992b-3527631da9b9.png\" align=\"left\"> "
   ]
  },
  {
   "cell_type": "markdown",
   "metadata": {},
   "source": [
    "# 03. numpy로 행렬만들기"
   ]
  },
  {
   "cell_type": "code",
   "execution_count": 16,
   "metadata": {},
   "outputs": [],
   "source": [
    "import numpy as np\n",
    "import pandas as pd"
   ]
  },
  {
   "cell_type": "markdown",
   "metadata": {},
   "source": [
    "## 원하는 값을 입력하여 행렬 만들기"
   ]
  },
  {
   "cell_type": "code",
   "execution_count": 3,
   "metadata": {},
   "outputs": [
    {
     "data": {
      "text/plain": [
       "array([[ 1, -1,  2],\n",
       "       [ 3,  2,  2],\n",
       "       [ 4,  1,  2],\n",
       "       [ 7,  5,  6]])"
      ]
     },
     "execution_count": 3,
     "metadata": {},
     "output_type": "execute_result"
    }
   ],
   "source": [
    "A = np.array([\n",
    "    [1,-1,2],\n",
    "    [3,2,2],\n",
    "    [4,1,2],\n",
    "    [7,5,6]\n",
    "])\n",
    "\n",
    "# 4 by 3 행렬의 생성\n",
    "A"
   ]
  },
  {
   "cell_type": "code",
   "execution_count": 4,
   "metadata": {},
   "outputs": [
    {
     "data": {
      "text/plain": [
       "array([[ 0,  1],\n",
       "       [-1,  3],\n",
       "       [ 5,  2]])"
      ]
     },
     "execution_count": 4,
     "metadata": {},
     "output_type": "execute_result"
    }
   ],
   "source": [
    "B= np.array([\n",
    "    [0,1],\n",
    "    [-1,3],\n",
    "    [5,2]\n",
    "])\n",
    "\n",
    "# 3 by 2 행렬의 생성\n",
    "B"
   ]
  },
  {
   "cell_type": "markdown",
   "metadata": {},
   "source": [
    " ## random함수를 이용하여 행렬만들기"
   ]
  },
  {
   "cell_type": "code",
   "execution_count": 21,
   "metadata": {},
   "outputs": [
    {
     "data": {
      "text/plain": [
       "array([[0.77301133, 0.22177578, 0.80743541, 0.06354729, 0.16823921],\n",
       "       [0.84150794, 0.39618233, 0.96804258, 0.54559948, 0.99007003],\n",
       "       [0.04020046, 0.4368406 , 0.57511259, 0.57052428, 0.95010771]])"
      ]
     },
     "execution_count": 21,
     "metadata": {},
     "output_type": "execute_result"
    }
   ],
   "source": [
    "# np.random.rand(m,n)\n",
    "# rand: Create an array of the given shape and populate it with random samples from a uniform distribution\n",
    "\n",
    "c = np.random.rand(3,5)  \n",
    "c\n"
   ]
  },
  {
   "cell_type": "markdown",
   "metadata": {},
   "source": [
    "## 0으로 이루어진 행렬 만들기"
   ]
  },
  {
   "cell_type": "code",
   "execution_count": 31,
   "metadata": {},
   "outputs": [
    {
     "data": {
      "text/plain": [
       "array([[0., 0., 0., 0.],\n",
       "       [0., 0., 0., 0.]])"
      ]
     },
     "execution_count": 31,
     "metadata": {},
     "output_type": "execute_result"
    }
   ],
   "source": [
    "D = np.zeros((2,4))\n",
    "D"
   ]
  },
  {
   "cell_type": "markdown",
   "metadata": {},
   "source": [
    "## numpy 행렬 접근 (원소 읽어오기)"
   ]
  },
  {
   "cell_type": "code",
   "execution_count": 34,
   "metadata": {},
   "outputs": [
    {
     "data": {
      "text/plain": [
       "array([[ 1, -1,  2],\n",
       "       [ 3,  2,  2],\n",
       "       [ 4,  1,  2],\n",
       "       [ 7,  5,  6]])"
      ]
     },
     "execution_count": 34,
     "metadata": {},
     "output_type": "execute_result"
    }
   ],
   "source": [
    "# A행렬의 1행 3열 읽어오기\n",
    "A"
   ]
  },
  {
   "cell_type": "code",
   "execution_count": 35,
   "metadata": {},
   "outputs": [
    {
     "ename": "IndexError",
     "evalue": "index 3 is out of bounds for axis 0 with size 3",
     "output_type": "error",
     "traceback": [
      "\u001b[1;31m---------------------------------------------------------------------------\u001b[0m",
      "\u001b[1;31mIndexError\u001b[0m                                Traceback (most recent call last)",
      "\u001b[1;32m<ipython-input-35-f3fa8611b237>\u001b[0m in \u001b[0;36m<module>\u001b[1;34m\u001b[0m\n\u001b[1;32m----> 1\u001b[1;33m \u001b[0mA\u001b[0m\u001b[1;33m[\u001b[0m\u001b[1;36m1\u001b[0m\u001b[1;33m]\u001b[0m\u001b[1;33m[\u001b[0m\u001b[1;36m3\u001b[0m\u001b[1;33m]\u001b[0m  \u001b[1;31m#python에서는 1이아니라 0부터 센다\u001b[0m\u001b[1;33m\u001b[0m\u001b[1;33m\u001b[0m\u001b[0m\n\u001b[0m",
      "\u001b[1;31mIndexError\u001b[0m: index 3 is out of bounds for axis 0 with size 3"
     ]
    }
   ],
   "source": [
    "A[1][3]  #python에서는 1이아니라 0부터 센다"
   ]
  },
  {
   "cell_type": "code",
   "execution_count": 36,
   "metadata": {},
   "outputs": [
    {
     "data": {
      "text/plain": [
       "2"
      ]
     },
     "execution_count": 36,
     "metadata": {},
     "output_type": "execute_result"
    }
   ],
   "source": [
    "A[0][2]"
   ]
  },
  {
   "cell_type": "markdown",
   "metadata": {},
   "source": [
    "## 실습"
   ]
  },
  {
   "cell_type": "code",
   "execution_count": 47,
   "metadata": {},
   "outputs": [
    {
     "data": {
      "text/plain": [
       "array([[ 0,  1, -1],\n",
       "       [ 1,  2,  3],\n",
       "       [ 2,  1,  0],\n",
       "       [-1,  2, -4]])"
      ]
     },
     "execution_count": 47,
     "metadata": {},
     "output_type": "execute_result"
    }
   ],
   "source": [
    "A=np.array([\n",
    "    [0,1,-1],\n",
    "    [1,2,3],\n",
    "    [2,1,0],\n",
    "    [-1,2,-4]\n",
    "])\n",
    "\n",
    "A"
   ]
  },
  {
   "cell_type": "code",
   "execution_count": 48,
   "metadata": {},
   "outputs": [
    {
     "data": {
      "text/plain": [
       "array([[ 0,  2],\n",
       "       [ 1,  1],\n",
       "       [-1, -2]])"
      ]
     },
     "execution_count": 48,
     "metadata": {},
     "output_type": "execute_result"
    }
   ],
   "source": [
    "B=np.array([\n",
    "    [0,2],\n",
    "    [1,1],\n",
    "    [-1,-2]\n",
    "])\n",
    "\n",
    "B"
   ]
  },
  {
   "cell_type": "code",
   "execution_count": 49,
   "metadata": {},
   "outputs": [
    {
     "data": {
      "text/plain": [
       "2"
      ]
     },
     "execution_count": 49,
     "metadata": {},
     "output_type": "execute_result"
    }
   ],
   "source": [
    "A[1][1]"
   ]
  },
  {
   "cell_type": "code",
   "execution_count": 50,
   "metadata": {},
   "outputs": [
    {
     "data": {
      "text/plain": [
       "-1"
      ]
     },
     "execution_count": 50,
     "metadata": {},
     "output_type": "execute_result"
    }
   ],
   "source": [
    "A[3][0]"
   ]
  },
  {
   "cell_type": "markdown",
   "metadata": {},
   "source": [
    "# 04. 행렬연산\n",
    "## 행렬 덧셈\n",
    "* 같은 위치의 원소끼리 더해준다. \n",
    "* 더할 행렬의 차원이 같아야 한다. "
   ]
  },
  {
   "attachments": {
    "image.png": {
     "image/png": "[encoded data removed]"
    }
   },
   "cell_type": "markdown",
   "metadata": {},
   "source": [
    "## 스칼라 곱\n",
    "* 스칼라: 선형대수학에서는 행렬의 원소가 아닌 일반 수를 **스칼라**라고 한다. \n",
    "<img src=\"attachment:image.png\" align='left'>"
   ]
  },
  {
   "cell_type": "markdown",
   "metadata": {},
   "source": [
    "## 내적곱"
   ]
  },
  {
   "attachments": {
    "image.png": {
     "image/png": "[encoded data removed]"
    }
   },
   "cell_type": "markdown",
   "metadata": {},
   "source": [
    "* A행렬과 B행렬의 곱 AB의 i번째 행, j번째 원소의 값은, A행렬의 i번째 행 백터와 B행렬의 j번째 열벡터의 곱이다. \n",
    "<img src=\"attachment:image.png\" align='left'>"
   ]
  },
  {
   "cell_type": "markdown",
   "metadata": {},
   "source": [
    "* 행렬 A의 열의 수가 뒤의 행렬 B의 행의 수와 일치해야 한다.\n",
    "* 교환법칙이 성립하지 않는다. AB != BA"
   ]
  },
  {
   "attachments": {
    "image.png": {
     "image/png": "[encoded data removed]"
    }
   },
   "cell_type": "markdown",
   "metadata": {},
   "source": [
    "## 요소별 곱하기 (Hadamard product)\n",
    "\n",
    "[위키피디아](https://ko.wikipedia.org/wiki/%EC%95%84%EB%8B%A4%EB%A7%88%EB%A5%B4_%EA%B3%B1)  \n",
    ">선형대수학에서, 아다마르 곱(영어: Hadamard product)은 같은 크기의 두 행렬의 각 성분을 곱하는 연산이다. 즉, 일반 행렬곱은 m x n과 n x p의 꼴의 두 행렬을 곱하지만, 아다마르 곱은 m x n과 m x n의 꼴의 두 행렬을 곱한다. 덧셈에 대하여 분배 법칙을 따른다.  \n",
    ">\n",
    "><img src=\"attachment:image.png\" align=\"left\" >\n",
    "          "
   ]
  },
  {
   "cell_type": "markdown",
   "metadata": {},
   "source": [
    "* 행렬의 덧셈과 같이 차원이 같은 행렬 사이에서만 가능하다. "
   ]
  },
  {
   "cell_type": "markdown",
   "metadata": {},
   "source": [
    "### numpy로 요소별 곱하기"
   ]
  },
  {
   "cell_type": "code",
   "execution_count": 60,
   "metadata": {},
   "outputs": [
    {
     "data": {
      "text/plain": [
       "array([[1, 2, 3],\n",
       "       [4, 5, 6],\n",
       "       [7, 8, 9]])"
      ]
     },
     "execution_count": 60,
     "metadata": {},
     "output_type": "execute_result"
    }
   ],
   "source": [
    "X = np.array([\n",
    "    [1, 2, 3],\n",
    "    [4, 5, 6],\n",
    "    [7, 8, 9]\n",
    "])\n",
    "\n",
    "X"
   ]
  },
  {
   "cell_type": "code",
   "execution_count": 61,
   "metadata": {},
   "outputs": [
    {
     "data": {
      "text/plain": [
       "array([[0, 1, 2],\n",
       "       [2, 0, 1],\n",
       "       [1, 2, 0]])"
      ]
     },
     "execution_count": 61,
     "metadata": {},
     "output_type": "execute_result"
    }
   ],
   "source": [
    "Y = np.array([\n",
    "    [0, 1, 2],\n",
    "    [2, 0, 1],\n",
    "    [1, 2, 0]\n",
    "])\n",
    "\n",
    "Y"
   ]
  },
  {
   "cell_type": "code",
   "execution_count": 62,
   "metadata": {},
   "outputs": [
    {
     "data": {
      "text/plain": [
       "array([[ 0,  2,  6],\n",
       "       [ 8,  0,  6],\n",
       "       [ 7, 16,  0]])"
      ]
     },
     "execution_count": 62,
     "metadata": {},
     "output_type": "execute_result"
    }
   ],
   "source": [
    "X*Y"
   ]
  },
  {
   "cell_type": "markdown",
   "metadata": {},
   "source": [
    "# 05. numpy로 행렬 연산하기"
   ]
  },
  {
   "cell_type": "code",
   "execution_count": 65,
   "metadata": {},
   "outputs": [],
   "source": [
    "A = np.array([\n",
    "    [1, -1, 2],\n",
    "    [3, 2, 2],\n",
    "    [4, 1, 2]\n",
    "])\n",
    "\n",
    "B = np.random.rand(3, 3)"
   ]
  },
  {
   "cell_type": "code",
   "execution_count": 66,
   "metadata": {},
   "outputs": [
    {
     "data": {
      "text/plain": [
       "array([[ 1, -1,  2],\n",
       "       [ 3,  2,  2],\n",
       "       [ 4,  1,  2]])"
      ]
     },
     "execution_count": 66,
     "metadata": {},
     "output_type": "execute_result"
    }
   ],
   "source": [
    "A"
   ]
  },
  {
   "cell_type": "code",
   "execution_count": 67,
   "metadata": {},
   "outputs": [
    {
     "data": {
      "text/plain": [
       "array([[0.84527583, 0.3975029 , 0.67727997],\n",
       "       [0.33210637, 0.53292783, 0.64282719],\n",
       "       [0.91922371, 0.93526685, 0.42227752]])"
      ]
     },
     "execution_count": 67,
     "metadata": {},
     "output_type": "execute_result"
    }
   ],
   "source": [
    "B"
   ]
  },
  {
   "cell_type": "markdown",
   "metadata": {},
   "source": [
    "## 행렬의 덧셈"
   ]
  },
  {
   "cell_type": "code",
   "execution_count": 68,
   "metadata": {},
   "outputs": [
    {
     "data": {
      "text/plain": [
       "array([[ 1.84527583, -0.6024971 ,  2.67727997],\n",
       "       [ 3.33210637,  2.53292783,  2.64282719],\n",
       "       [ 4.91922371,  1.93526685,  2.42227752]])"
      ]
     },
     "execution_count": 68,
     "metadata": {},
     "output_type": "execute_result"
    }
   ],
   "source": [
    "A + B"
   ]
  },
  {
   "cell_type": "markdown",
   "metadata": {},
   "source": [
    "## 스칼라곱"
   ]
  },
  {
   "cell_type": "code",
   "execution_count": 69,
   "metadata": {},
   "outputs": [
    {
     "data": {
      "text/plain": [
       "array([[ 5, -5, 10],\n",
       "       [15, 10, 10],\n",
       "       [20,  5, 10]])"
      ]
     },
     "execution_count": 69,
     "metadata": {},
     "output_type": "execute_result"
    }
   ],
   "source": [
    "5 * A"
   ]
  },
  {
   "cell_type": "markdown",
   "metadata": {},
   "source": [
    "## 내적곱\n",
    "### np.dot()"
   ]
  },
  {
   "cell_type": "code",
   "execution_count": 72,
   "metadata": {},
   "outputs": [
    {
     "data": {
      "text/plain": [
       "array([[2.35161688, 1.73510877, 0.87900781],\n",
       "       [5.03848764, 4.12889807, 4.16204931],\n",
       "       [5.55165711, 3.99347313, 4.19650209]])"
      ]
     },
     "execution_count": 72,
     "metadata": {},
     "output_type": "execute_result"
    }
   ],
   "source": [
    "np.dot(A, B)"
   ]
  },
  {
   "cell_type": "markdown",
   "metadata": {},
   "source": [
    "### @"
   ]
  },
  {
   "cell_type": "code",
   "execution_count": 73,
   "metadata": {},
   "outputs": [
    {
     "data": {
      "text/plain": [
       "array([[2.35161688, 1.73510877, 0.87900781],\n",
       "       [5.03848764, 4.12889807, 4.16204931],\n",
       "       [5.55165711, 3.99347313, 4.19650209]])"
      ]
     },
     "execution_count": 73,
     "metadata": {},
     "output_type": "execute_result"
    }
   ],
   "source": [
    "A @ B"
   ]
  },
  {
   "cell_type": "markdown",
   "metadata": {},
   "source": [
    "## 응용"
   ]
  },
  {
   "cell_type": "code",
   "execution_count": 75,
   "metadata": {},
   "outputs": [
    {
     "data": {
      "text/plain": [
       "array([[ 6.19689271,  3.13261167,  5.55628778],\n",
       "       [10.37059401,  8.6618259 ,  8.8048765 ],\n",
       "       [12.47088081,  7.92873998,  8.61877961]])"
      ]
     },
     "execution_count": 75,
     "metadata": {},
     "output_type": "execute_result"
    }
   ],
   "source": [
    "# 우선순위대로 괄호 안부터 실행되고, 곱셈 -> 덧셈으로 연산된다\n",
    "A @ B + (A + 2 + B)"
   ]
  },
  {
   "cell_type": "code",
   "execution_count": 77,
   "metadata": {},
   "outputs": [],
   "source": [
    "A = np.array([\n",
    "    [1, -1, 2],\n",
    "    [3, 2, 2]\n",
    "])\n",
    "\n",
    "B = np.array([\n",
    "    [0, 1],\n",
    "    [-1, 1],\n",
    "    [5, 2]\n",
    "])\n",
    "\n",
    "C = np.array([\n",
    "    [2, -1],\n",
    "    [-3, 3]\n",
    "])\n",
    "\n",
    "D = np.array([\n",
    "    [-5, 1],\n",
    "    [2, 0]\n",
    "])"
   ]
  },
  {
   "cell_type": "markdown",
   "metadata": {},
   "source": [
    "$2 A \\times -B \\times (3C + D)$\n"
   ]
  },
  {
   "cell_type": "code",
   "execution_count": 80,
   "metadata": {},
   "outputs": [
    {
     "data": {
      "text/plain": [
       "array([[  34,  -28],\n",
       "       [ 110, -130]])"
      ]
     },
     "execution_count": 80,
     "metadata": {},
     "output_type": "execute_result"
    }
   ],
   "source": [
    "2 * A @ -B @ (3*C + D)"
   ]
  },
  {
   "cell_type": "markdown",
   "metadata": {},
   "source": [
    "# 06. 전치행렬, 단위행렬, 역행렬"
   ]
  },
  {
   "cell_type": "code",
   "execution_count": 92,
   "metadata": {},
   "outputs": [
    {
     "data": {
      "text/plain": [
       "'사'"
      ]
     },
     "execution_count": 92,
     "metadata": {},
     "output_type": "execute_result"
    }
   ],
   "source": []
  },
  {
   "cell_type": "code",
   "execution_count": null,
   "metadata": {},
   "outputs": [],
   "source": []
  },
  {
   "cell_type": "code",
   "execution_count": null,
   "metadata": {},
   "outputs": [],
   "source": []
  }
 ],
 "metadata": {
  "kernelspec": {
   "display_name": "Python 3",
   "language": "python",
   "name": "python3"
  },
  "language_info": {
   "codemirror_mode": {
    "name": "ipython",
    "version": 3
   },
   "file_extension": ".py",
   "mimetype": "text/x-python",
   "name": "python",
   "nbconvert_exporter": "python",
   "pygments_lexer": "ipython3",
   "version": "3.8.5"
  },
  "toc": {
   "base_numbering": 1,
   "nav_menu": {},
   "number_sections": true,
   "sideBar": true,
   "skip_h1_title": false,
   "title_cell": "Table of Contents",
   "title_sidebar": "Contents",
   "toc_cell": false,
   "toc_position": {
    "height": "calc(100% - 180px)",
    "left": "10px",
    "top": "150px",
    "width": "165px"
   },
   "toc_section_display": true,
   "toc_window_display": false
  }
 },
 "nbformat": 4,
 "nbformat_minor": 4
}
